{
  "nbformat": 4,
  "nbformat_minor": 0,
  "metadata": {
    "colab": {
      "name": "Titanic.ipynb",
      "provenance": []
    },
    "kernelspec": {
      "display_name": "Python 3",
      "name": "python3"
    },
    "language_info": {
      "name": "python"
    }
  },
  "cells": [
    {
      "cell_type": "code",
      "metadata": {
        "id": "0TnYzDp7D2of"
      },
      "source": [
        "import pandas as pd\n",
        "import matplotlib.pyplot as plt\n",
        "import seaborn as sns\n",
        "from sklearn.preprocessing import LabelEncoder"
      ],
      "execution_count": 1,
      "outputs": []
    },
    {
      "cell_type": "code",
      "metadata": {
        "id": "k_S8OWCmD9jb"
      },
      "source": [
        "df_test = pd.read_csv('/content/drive/MyDrive/Colab Notebooks/Titanic/test.csv')\n",
        "df_train = pd.read_csv('/content/drive/MyDrive/Colab Notebooks/Titanic/train.csv')"
      ],
      "execution_count": null,
      "outputs": []
    },
    {
      "cell_type": "code",
      "metadata": {
        "colab": {
          "base_uri": "https://localhost:8080/",
          "height": 204
        },
        "id": "6x4221jeXld5",
        "outputId": "269ab899-e806-4238-fb14-b87c5720ea97"
      },
      "source": [
        "df_train.head()"
      ],
      "execution_count": null,
      "outputs": [
        {
          "output_type": "execute_result",
          "data": {
            "text/html": [
              "<div>\n",
              "<style scoped>\n",
              "    .dataframe tbody tr th:only-of-type {\n",
              "        vertical-align: middle;\n",
              "    }\n",
              "\n",
              "    .dataframe tbody tr th {\n",
              "        vertical-align: top;\n",
              "    }\n",
              "\n",
              "    .dataframe thead th {\n",
              "        text-align: right;\n",
              "    }\n",
              "</style>\n",
              "<table border=\"1\" class=\"dataframe\">\n",
              "  <thead>\n",
              "    <tr style=\"text-align: right;\">\n",
              "      <th></th>\n",
              "      <th>PassengerId</th>\n",
              "      <th>Survived</th>\n",
              "      <th>Pclass</th>\n",
              "      <th>Name</th>\n",
              "      <th>Sex</th>\n",
              "      <th>Age</th>\n",
              "      <th>SibSp</th>\n",
              "      <th>Parch</th>\n",
              "      <th>Ticket</th>\n",
              "      <th>Fare</th>\n",
              "      <th>Cabin</th>\n",
              "      <th>Embarked</th>\n",
              "    </tr>\n",
              "  </thead>\n",
              "  <tbody>\n",
              "    <tr>\n",
              "      <th>0</th>\n",
              "      <td>1</td>\n",
              "      <td>0</td>\n",
              "      <td>3</td>\n",
              "      <td>Braund, Mr. Owen Harris</td>\n",
              "      <td>1</td>\n",
              "      <td>22.0</td>\n",
              "      <td>1</td>\n",
              "      <td>0</td>\n",
              "      <td>A/5 21171</td>\n",
              "      <td>7.2500</td>\n",
              "      <td>NaN</td>\n",
              "      <td>S</td>\n",
              "    </tr>\n",
              "    <tr>\n",
              "      <th>1</th>\n",
              "      <td>2</td>\n",
              "      <td>1</td>\n",
              "      <td>1</td>\n",
              "      <td>Cumings, Mrs. John Bradley (Florence Briggs Th...</td>\n",
              "      <td>0</td>\n",
              "      <td>38.0</td>\n",
              "      <td>1</td>\n",
              "      <td>0</td>\n",
              "      <td>PC 17599</td>\n",
              "      <td>71.2833</td>\n",
              "      <td>C85</td>\n",
              "      <td>C</td>\n",
              "    </tr>\n",
              "    <tr>\n",
              "      <th>2</th>\n",
              "      <td>3</td>\n",
              "      <td>1</td>\n",
              "      <td>3</td>\n",
              "      <td>Heikkinen, Miss. Laina</td>\n",
              "      <td>0</td>\n",
              "      <td>26.0</td>\n",
              "      <td>0</td>\n",
              "      <td>0</td>\n",
              "      <td>STON/O2. 3101282</td>\n",
              "      <td>7.9250</td>\n",
              "      <td>NaN</td>\n",
              "      <td>S</td>\n",
              "    </tr>\n",
              "    <tr>\n",
              "      <th>3</th>\n",
              "      <td>4</td>\n",
              "      <td>1</td>\n",
              "      <td>1</td>\n",
              "      <td>Futrelle, Mrs. Jacques Heath (Lily May Peel)</td>\n",
              "      <td>0</td>\n",
              "      <td>35.0</td>\n",
              "      <td>1</td>\n",
              "      <td>0</td>\n",
              "      <td>113803</td>\n",
              "      <td>53.1000</td>\n",
              "      <td>C123</td>\n",
              "      <td>S</td>\n",
              "    </tr>\n",
              "    <tr>\n",
              "      <th>4</th>\n",
              "      <td>5</td>\n",
              "      <td>0</td>\n",
              "      <td>3</td>\n",
              "      <td>Allen, Mr. William Henry</td>\n",
              "      <td>1</td>\n",
              "      <td>35.0</td>\n",
              "      <td>0</td>\n",
              "      <td>0</td>\n",
              "      <td>373450</td>\n",
              "      <td>8.0500</td>\n",
              "      <td>NaN</td>\n",
              "      <td>S</td>\n",
              "    </tr>\n",
              "  </tbody>\n",
              "</table>\n",
              "</div>"
            ],
            "text/plain": [
              "   PassengerId  Survived  Pclass  ...     Fare  Cabin  Embarked\n",
              "0            1         0       3  ...   7.2500    NaN         S\n",
              "1            2         1       1  ...  71.2833    C85         C\n",
              "2            3         1       3  ...   7.9250    NaN         S\n",
              "3            4         1       1  ...  53.1000   C123         S\n",
              "4            5         0       3  ...   8.0500    NaN         S\n",
              "\n",
              "[5 rows x 12 columns]"
            ]
          },
          "metadata": {
            "tags": []
          },
          "execution_count": 5
        }
      ]
    },
    {
      "cell_type": "code",
      "metadata": {
        "colab": {
          "base_uri": "https://localhost:8080/"
        },
        "id": "IydIOmrBYT3e",
        "outputId": "c5a99495-8bf0-4b7f-d75a-1790099da70c"
      },
      "source": [
        "import numpy as np\n",
        "from sklearn.preprocessing import LabelEncoder\n",
        "\n",
        "LE = LabelEncoder()\n",
        "df_train['Sex'] = LE.fit_transform(df_train['Sex'])\n",
        "print(LE.classes_)\n",
        "print(np.sort(df_train['Sex'].unique()))\n",
        "print('==================================================================')"
      ],
      "execution_count": null,
      "outputs": [
        {
          "output_type": "stream",
          "text": [
            "['female' 'male']\n",
            "[0 1]\n",
            "==================================================================\n"
          ],
          "name": "stdout"
        }
      ]
    },
    {
      "cell_type": "code",
      "metadata": {
        "colab": {
          "base_uri": "https://localhost:8080/",
          "height": 208
        },
        "id": "7WCEcsyNXU1R",
        "outputId": "68e59b16-128c-4a2f-d2e7-c2bb906cfa98"
      },
      "source": [
        "df_train.corr().style.background_gradient().set_precision(2)"
      ],
      "execution_count": null,
      "outputs": [
        {
          "output_type": "execute_result",
          "data": {
            "text/html": [
              "<style  type=\"text/css\" >\n",
              "#T_af7a30fc_cb81_11eb_9146_0242ac1c0002row0_col0,#T_af7a30fc_cb81_11eb_9146_0242ac1c0002row1_col1,#T_af7a30fc_cb81_11eb_9146_0242ac1c0002row2_col2,#T_af7a30fc_cb81_11eb_9146_0242ac1c0002row3_col3,#T_af7a30fc_cb81_11eb_9146_0242ac1c0002row4_col4,#T_af7a30fc_cb81_11eb_9146_0242ac1c0002row5_col5,#T_af7a30fc_cb81_11eb_9146_0242ac1c0002row6_col6,#T_af7a30fc_cb81_11eb_9146_0242ac1c0002row7_col7{\n",
              "            background-color:  #023858;\n",
              "            color:  #f1f1f1;\n",
              "        }#T_af7a30fc_cb81_11eb_9146_0242ac1c0002row0_col1{\n",
              "            background-color:  #afc1dd;\n",
              "            color:  #000000;\n",
              "        }#T_af7a30fc_cb81_11eb_9146_0242ac1c0002row0_col2,#T_af7a30fc_cb81_11eb_9146_0242ac1c0002row5_col1{\n",
              "            background-color:  #b5c4df;\n",
              "            color:  #000000;\n",
              "        }#T_af7a30fc_cb81_11eb_9146_0242ac1c0002row0_col3{\n",
              "            background-color:  #a4bcda;\n",
              "            color:  #000000;\n",
              "        }#T_af7a30fc_cb81_11eb_9146_0242ac1c0002row0_col4{\n",
              "            background-color:  #c1cae2;\n",
              "            color:  #000000;\n",
              "        }#T_af7a30fc_cb81_11eb_9146_0242ac1c0002row0_col5,#T_af7a30fc_cb81_11eb_9146_0242ac1c0002row6_col3{\n",
              "            background-color:  #dddbec;\n",
              "            color:  #000000;\n",
              "        }#T_af7a30fc_cb81_11eb_9146_0242ac1c0002row0_col6{\n",
              "            background-color:  #dcdaeb;\n",
              "            color:  #000000;\n",
              "        }#T_af7a30fc_cb81_11eb_9146_0242ac1c0002row0_col7{\n",
              "            background-color:  #abbfdc;\n",
              "            color:  #000000;\n",
              "        }#T_af7a30fc_cb81_11eb_9146_0242ac1c0002row1_col0,#T_af7a30fc_cb81_11eb_9146_0242ac1c0002row4_col6,#T_af7a30fc_cb81_11eb_9146_0242ac1c0002row5_col4{\n",
              "            background-color:  #f8f1f8;\n",
              "            color:  #000000;\n",
              "        }#T_af7a30fc_cb81_11eb_9146_0242ac1c0002row1_col2{\n",
              "            background-color:  #eae6f1;\n",
              "            color:  #000000;\n",
              "        }#T_af7a30fc_cb81_11eb_9146_0242ac1c0002row1_col3,#T_af7a30fc_cb81_11eb_9146_0242ac1c0002row2_col4,#T_af7a30fc_cb81_11eb_9146_0242ac1c0002row2_col7,#T_af7a30fc_cb81_11eb_9146_0242ac1c0002row3_col1,#T_af7a30fc_cb81_11eb_9146_0242ac1c0002row3_col6,#T_af7a30fc_cb81_11eb_9146_0242ac1c0002row4_col5,#T_af7a30fc_cb81_11eb_9146_0242ac1c0002row5_col0,#T_af7a30fc_cb81_11eb_9146_0242ac1c0002row7_col2{\n",
              "            background-color:  #fff7fb;\n",
              "            color:  #000000;\n",
              "        }#T_af7a30fc_cb81_11eb_9146_0242ac1c0002row1_col4,#T_af7a30fc_cb81_11eb_9146_0242ac1c0002row1_col5,#T_af7a30fc_cb81_11eb_9146_0242ac1c0002row2_col6{\n",
              "            background-color:  #d9d8ea;\n",
              "            color:  #000000;\n",
              "        }#T_af7a30fc_cb81_11eb_9146_0242ac1c0002row1_col6{\n",
              "            background-color:  #cccfe5;\n",
              "            color:  #000000;\n",
              "        }#T_af7a30fc_cb81_11eb_9146_0242ac1c0002row1_col7{\n",
              "            background-color:  #69a5cc;\n",
              "            color:  #000000;\n",
              "        }#T_af7a30fc_cb81_11eb_9146_0242ac1c0002row2_col0{\n",
              "            background-color:  #fcf4fa;\n",
              "            color:  #000000;\n",
              "        }#T_af7a30fc_cb81_11eb_9146_0242ac1c0002row2_col1,#T_af7a30fc_cb81_11eb_9146_0242ac1c0002row6_col4{\n",
              "            background-color:  #ebe6f2;\n",
              "            color:  #000000;\n",
              "        }#T_af7a30fc_cb81_11eb_9146_0242ac1c0002row2_col3,#T_af7a30fc_cb81_11eb_9146_0242ac1c0002row3_col2{\n",
              "            background-color:  #8cb3d5;\n",
              "            color:  #000000;\n",
              "        }#T_af7a30fc_cb81_11eb_9146_0242ac1c0002row2_col5{\n",
              "            background-color:  #c0c9e2;\n",
              "            color:  #000000;\n",
              "        }#T_af7a30fc_cb81_11eb_9146_0242ac1c0002row3_col0{\n",
              "            background-color:  #f1ebf4;\n",
              "            color:  #000000;\n",
              "        }#T_af7a30fc_cb81_11eb_9146_0242ac1c0002row3_col4,#T_af7a30fc_cb81_11eb_9146_0242ac1c0002row7_col4{\n",
              "            background-color:  #b3c3de;\n",
              "            color:  #000000;\n",
              "        }#T_af7a30fc_cb81_11eb_9146_0242ac1c0002row3_col5{\n",
              "            background-color:  #e7e3f0;\n",
              "            color:  #000000;\n",
              "        }#T_af7a30fc_cb81_11eb_9146_0242ac1c0002row3_col7{\n",
              "            background-color:  #d3d4e7;\n",
              "            color:  #000000;\n",
              "        }#T_af7a30fc_cb81_11eb_9146_0242ac1c0002row4_col0{\n",
              "            background-color:  #f2ecf5;\n",
              "            color:  #000000;\n",
              "        }#T_af7a30fc_cb81_11eb_9146_0242ac1c0002row4_col1{\n",
              "            background-color:  #bfc9e1;\n",
              "            color:  #000000;\n",
              "        }#T_af7a30fc_cb81_11eb_9146_0242ac1c0002row4_col2{\n",
              "            background-color:  #eee8f3;\n",
              "            color:  #000000;\n",
              "        }#T_af7a30fc_cb81_11eb_9146_0242ac1c0002row4_col3{\n",
              "            background-color:  #97b7d7;\n",
              "            color:  #000000;\n",
              "        }#T_af7a30fc_cb81_11eb_9146_0242ac1c0002row4_col7{\n",
              "            background-color:  #96b6d7;\n",
              "            color:  #000000;\n",
              "        }#T_af7a30fc_cb81_11eb_9146_0242ac1c0002row5_col2{\n",
              "            background-color:  #99b8d8;\n",
              "            color:  #000000;\n",
              "        }#T_af7a30fc_cb81_11eb_9146_0242ac1c0002row5_col3{\n",
              "            background-color:  #c6cce3;\n",
              "            color:  #000000;\n",
              "        }#T_af7a30fc_cb81_11eb_9146_0242ac1c0002row5_col6{\n",
              "            background-color:  #65a3cb;\n",
              "            color:  #000000;\n",
              "        }#T_af7a30fc_cb81_11eb_9146_0242ac1c0002row5_col7{\n",
              "            background-color:  #84b0d3;\n",
              "            color:  #000000;\n",
              "        }#T_af7a30fc_cb81_11eb_9146_0242ac1c0002row6_col0{\n",
              "            background-color:  #f7f0f7;\n",
              "            color:  #000000;\n",
              "        }#T_af7a30fc_cb81_11eb_9146_0242ac1c0002row6_col1{\n",
              "            background-color:  #9ab8d8;\n",
              "            color:  #000000;\n",
              "        }#T_af7a30fc_cb81_11eb_9146_0242ac1c0002row6_col2{\n",
              "            background-color:  #a9bfdc;\n",
              "            color:  #000000;\n",
              "        }#T_af7a30fc_cb81_11eb_9146_0242ac1c0002row6_col5{\n",
              "            background-color:  #5a9ec9;\n",
              "            color:  #000000;\n",
              "        }#T_af7a30fc_cb81_11eb_9146_0242ac1c0002row6_col7{\n",
              "            background-color:  #76aad0;\n",
              "            color:  #000000;\n",
              "        }#T_af7a30fc_cb81_11eb_9146_0242ac1c0002row7_col0{\n",
              "            background-color:  #f5eff6;\n",
              "            color:  #000000;\n",
              "        }#T_af7a30fc_cb81_11eb_9146_0242ac1c0002row7_col1{\n",
              "            background-color:  #6ba5cd;\n",
              "            color:  #000000;\n",
              "        }#T_af7a30fc_cb81_11eb_9146_0242ac1c0002row7_col3{\n",
              "            background-color:  #d4d4e8;\n",
              "            color:  #000000;\n",
              "        }#T_af7a30fc_cb81_11eb_9146_0242ac1c0002row7_col5{\n",
              "            background-color:  #acc0dd;\n",
              "            color:  #000000;\n",
              "        }#T_af7a30fc_cb81_11eb_9146_0242ac1c0002row7_col6{\n",
              "            background-color:  #a8bedc;\n",
              "            color:  #000000;\n",
              "        }</style><table id=\"T_af7a30fc_cb81_11eb_9146_0242ac1c0002\" ><thead>    <tr>        <th class=\"blank level0\" ></th>        <th class=\"col_heading level0 col0\" >PassengerId</th>        <th class=\"col_heading level0 col1\" >Survived</th>        <th class=\"col_heading level0 col2\" >Pclass</th>        <th class=\"col_heading level0 col3\" >Sex</th>        <th class=\"col_heading level0 col4\" >Age</th>        <th class=\"col_heading level0 col5\" >SibSp</th>        <th class=\"col_heading level0 col6\" >Parch</th>        <th class=\"col_heading level0 col7\" >Fare</th>    </tr></thead><tbody>\n",
              "                <tr>\n",
              "                        <th id=\"T_af7a30fc_cb81_11eb_9146_0242ac1c0002level0_row0\" class=\"row_heading level0 row0\" >PassengerId</th>\n",
              "                        <td id=\"T_af7a30fc_cb81_11eb_9146_0242ac1c0002row0_col0\" class=\"data row0 col0\" >1.00</td>\n",
              "                        <td id=\"T_af7a30fc_cb81_11eb_9146_0242ac1c0002row0_col1\" class=\"data row0 col1\" >-0.01</td>\n",
              "                        <td id=\"T_af7a30fc_cb81_11eb_9146_0242ac1c0002row0_col2\" class=\"data row0 col2\" >-0.04</td>\n",
              "                        <td id=\"T_af7a30fc_cb81_11eb_9146_0242ac1c0002row0_col3\" class=\"data row0 col3\" >0.04</td>\n",
              "                        <td id=\"T_af7a30fc_cb81_11eb_9146_0242ac1c0002row0_col4\" class=\"data row0 col4\" >0.04</td>\n",
              "                        <td id=\"T_af7a30fc_cb81_11eb_9146_0242ac1c0002row0_col5\" class=\"data row0 col5\" >-0.06</td>\n",
              "                        <td id=\"T_af7a30fc_cb81_11eb_9146_0242ac1c0002row0_col6\" class=\"data row0 col6\" >-0.00</td>\n",
              "                        <td id=\"T_af7a30fc_cb81_11eb_9146_0242ac1c0002row0_col7\" class=\"data row0 col7\" >0.01</td>\n",
              "            </tr>\n",
              "            <tr>\n",
              "                        <th id=\"T_af7a30fc_cb81_11eb_9146_0242ac1c0002level0_row1\" class=\"row_heading level0 row1\" >Survived</th>\n",
              "                        <td id=\"T_af7a30fc_cb81_11eb_9146_0242ac1c0002row1_col0\" class=\"data row1 col0\" >-0.01</td>\n",
              "                        <td id=\"T_af7a30fc_cb81_11eb_9146_0242ac1c0002row1_col1\" class=\"data row1 col1\" >1.00</td>\n",
              "                        <td id=\"T_af7a30fc_cb81_11eb_9146_0242ac1c0002row1_col2\" class=\"data row1 col2\" >-0.34</td>\n",
              "                        <td id=\"T_af7a30fc_cb81_11eb_9146_0242ac1c0002row1_col3\" class=\"data row1 col3\" >-0.54</td>\n",
              "                        <td id=\"T_af7a30fc_cb81_11eb_9146_0242ac1c0002row1_col4\" class=\"data row1 col4\" >-0.08</td>\n",
              "                        <td id=\"T_af7a30fc_cb81_11eb_9146_0242ac1c0002row1_col5\" class=\"data row1 col5\" >-0.04</td>\n",
              "                        <td id=\"T_af7a30fc_cb81_11eb_9146_0242ac1c0002row1_col6\" class=\"data row1 col6\" >0.08</td>\n",
              "                        <td id=\"T_af7a30fc_cb81_11eb_9146_0242ac1c0002row1_col7\" class=\"data row1 col7\" >0.26</td>\n",
              "            </tr>\n",
              "            <tr>\n",
              "                        <th id=\"T_af7a30fc_cb81_11eb_9146_0242ac1c0002level0_row2\" class=\"row_heading level0 row2\" >Pclass</th>\n",
              "                        <td id=\"T_af7a30fc_cb81_11eb_9146_0242ac1c0002row2_col0\" class=\"data row2 col0\" >-0.04</td>\n",
              "                        <td id=\"T_af7a30fc_cb81_11eb_9146_0242ac1c0002row2_col1\" class=\"data row2 col1\" >-0.34</td>\n",
              "                        <td id=\"T_af7a30fc_cb81_11eb_9146_0242ac1c0002row2_col2\" class=\"data row2 col2\" >1.00</td>\n",
              "                        <td id=\"T_af7a30fc_cb81_11eb_9146_0242ac1c0002row2_col3\" class=\"data row2 col3\" >0.13</td>\n",
              "                        <td id=\"T_af7a30fc_cb81_11eb_9146_0242ac1c0002row2_col4\" class=\"data row2 col4\" >-0.37</td>\n",
              "                        <td id=\"T_af7a30fc_cb81_11eb_9146_0242ac1c0002row2_col5\" class=\"data row2 col5\" >0.08</td>\n",
              "                        <td id=\"T_af7a30fc_cb81_11eb_9146_0242ac1c0002row2_col6\" class=\"data row2 col6\" >0.02</td>\n",
              "                        <td id=\"T_af7a30fc_cb81_11eb_9146_0242ac1c0002row2_col7\" class=\"data row2 col7\" >-0.55</td>\n",
              "            </tr>\n",
              "            <tr>\n",
              "                        <th id=\"T_af7a30fc_cb81_11eb_9146_0242ac1c0002level0_row3\" class=\"row_heading level0 row3\" >Sex</th>\n",
              "                        <td id=\"T_af7a30fc_cb81_11eb_9146_0242ac1c0002row3_col0\" class=\"data row3 col0\" >0.04</td>\n",
              "                        <td id=\"T_af7a30fc_cb81_11eb_9146_0242ac1c0002row3_col1\" class=\"data row3 col1\" >-0.54</td>\n",
              "                        <td id=\"T_af7a30fc_cb81_11eb_9146_0242ac1c0002row3_col2\" class=\"data row3 col2\" >0.13</td>\n",
              "                        <td id=\"T_af7a30fc_cb81_11eb_9146_0242ac1c0002row3_col3\" class=\"data row3 col3\" >1.00</td>\n",
              "                        <td id=\"T_af7a30fc_cb81_11eb_9146_0242ac1c0002row3_col4\" class=\"data row3 col4\" >0.09</td>\n",
              "                        <td id=\"T_af7a30fc_cb81_11eb_9146_0242ac1c0002row3_col5\" class=\"data row3 col5\" >-0.11</td>\n",
              "                        <td id=\"T_af7a30fc_cb81_11eb_9146_0242ac1c0002row3_col6\" class=\"data row3 col6\" >-0.25</td>\n",
              "                        <td id=\"T_af7a30fc_cb81_11eb_9146_0242ac1c0002row3_col7\" class=\"data row3 col7\" >-0.18</td>\n",
              "            </tr>\n",
              "            <tr>\n",
              "                        <th id=\"T_af7a30fc_cb81_11eb_9146_0242ac1c0002level0_row4\" class=\"row_heading level0 row4\" >Age</th>\n",
              "                        <td id=\"T_af7a30fc_cb81_11eb_9146_0242ac1c0002row4_col0\" class=\"data row4 col0\" >0.04</td>\n",
              "                        <td id=\"T_af7a30fc_cb81_11eb_9146_0242ac1c0002row4_col1\" class=\"data row4 col1\" >-0.08</td>\n",
              "                        <td id=\"T_af7a30fc_cb81_11eb_9146_0242ac1c0002row4_col2\" class=\"data row4 col2\" >-0.37</td>\n",
              "                        <td id=\"T_af7a30fc_cb81_11eb_9146_0242ac1c0002row4_col3\" class=\"data row4 col3\" >0.09</td>\n",
              "                        <td id=\"T_af7a30fc_cb81_11eb_9146_0242ac1c0002row4_col4\" class=\"data row4 col4\" >1.00</td>\n",
              "                        <td id=\"T_af7a30fc_cb81_11eb_9146_0242ac1c0002row4_col5\" class=\"data row4 col5\" >-0.31</td>\n",
              "                        <td id=\"T_af7a30fc_cb81_11eb_9146_0242ac1c0002row4_col6\" class=\"data row4 col6\" >-0.19</td>\n",
              "                        <td id=\"T_af7a30fc_cb81_11eb_9146_0242ac1c0002row4_col7\" class=\"data row4 col7\" >0.10</td>\n",
              "            </tr>\n",
              "            <tr>\n",
              "                        <th id=\"T_af7a30fc_cb81_11eb_9146_0242ac1c0002level0_row5\" class=\"row_heading level0 row5\" >SibSp</th>\n",
              "                        <td id=\"T_af7a30fc_cb81_11eb_9146_0242ac1c0002row5_col0\" class=\"data row5 col0\" >-0.06</td>\n",
              "                        <td id=\"T_af7a30fc_cb81_11eb_9146_0242ac1c0002row5_col1\" class=\"data row5 col1\" >-0.04</td>\n",
              "                        <td id=\"T_af7a30fc_cb81_11eb_9146_0242ac1c0002row5_col2\" class=\"data row5 col2\" >0.08</td>\n",
              "                        <td id=\"T_af7a30fc_cb81_11eb_9146_0242ac1c0002row5_col3\" class=\"data row5 col3\" >-0.11</td>\n",
              "                        <td id=\"T_af7a30fc_cb81_11eb_9146_0242ac1c0002row5_col4\" class=\"data row5 col4\" >-0.31</td>\n",
              "                        <td id=\"T_af7a30fc_cb81_11eb_9146_0242ac1c0002row5_col5\" class=\"data row5 col5\" >1.00</td>\n",
              "                        <td id=\"T_af7a30fc_cb81_11eb_9146_0242ac1c0002row5_col6\" class=\"data row5 col6\" >0.41</td>\n",
              "                        <td id=\"T_af7a30fc_cb81_11eb_9146_0242ac1c0002row5_col7\" class=\"data row5 col7\" >0.16</td>\n",
              "            </tr>\n",
              "            <tr>\n",
              "                        <th id=\"T_af7a30fc_cb81_11eb_9146_0242ac1c0002level0_row6\" class=\"row_heading level0 row6\" >Parch</th>\n",
              "                        <td id=\"T_af7a30fc_cb81_11eb_9146_0242ac1c0002row6_col0\" class=\"data row6 col0\" >-0.00</td>\n",
              "                        <td id=\"T_af7a30fc_cb81_11eb_9146_0242ac1c0002row6_col1\" class=\"data row6 col1\" >0.08</td>\n",
              "                        <td id=\"T_af7a30fc_cb81_11eb_9146_0242ac1c0002row6_col2\" class=\"data row6 col2\" >0.02</td>\n",
              "                        <td id=\"T_af7a30fc_cb81_11eb_9146_0242ac1c0002row6_col3\" class=\"data row6 col3\" >-0.25</td>\n",
              "                        <td id=\"T_af7a30fc_cb81_11eb_9146_0242ac1c0002row6_col4\" class=\"data row6 col4\" >-0.19</td>\n",
              "                        <td id=\"T_af7a30fc_cb81_11eb_9146_0242ac1c0002row6_col5\" class=\"data row6 col5\" >0.41</td>\n",
              "                        <td id=\"T_af7a30fc_cb81_11eb_9146_0242ac1c0002row6_col6\" class=\"data row6 col6\" >1.00</td>\n",
              "                        <td id=\"T_af7a30fc_cb81_11eb_9146_0242ac1c0002row6_col7\" class=\"data row6 col7\" >0.22</td>\n",
              "            </tr>\n",
              "            <tr>\n",
              "                        <th id=\"T_af7a30fc_cb81_11eb_9146_0242ac1c0002level0_row7\" class=\"row_heading level0 row7\" >Fare</th>\n",
              "                        <td id=\"T_af7a30fc_cb81_11eb_9146_0242ac1c0002row7_col0\" class=\"data row7 col0\" >0.01</td>\n",
              "                        <td id=\"T_af7a30fc_cb81_11eb_9146_0242ac1c0002row7_col1\" class=\"data row7 col1\" >0.26</td>\n",
              "                        <td id=\"T_af7a30fc_cb81_11eb_9146_0242ac1c0002row7_col2\" class=\"data row7 col2\" >-0.55</td>\n",
              "                        <td id=\"T_af7a30fc_cb81_11eb_9146_0242ac1c0002row7_col3\" class=\"data row7 col3\" >-0.18</td>\n",
              "                        <td id=\"T_af7a30fc_cb81_11eb_9146_0242ac1c0002row7_col4\" class=\"data row7 col4\" >0.10</td>\n",
              "                        <td id=\"T_af7a30fc_cb81_11eb_9146_0242ac1c0002row7_col5\" class=\"data row7 col5\" >0.16</td>\n",
              "                        <td id=\"T_af7a30fc_cb81_11eb_9146_0242ac1c0002row7_col6\" class=\"data row7 col6\" >0.22</td>\n",
              "                        <td id=\"T_af7a30fc_cb81_11eb_9146_0242ac1c0002row7_col7\" class=\"data row7 col7\" >1.00</td>\n",
              "            </tr>\n",
              "    </tbody></table>"
            ],
            "text/plain": [
              "<pandas.io.formats.style.Styler at 0x7f2980ee3d10>"
            ]
          },
          "metadata": {
            "tags": []
          },
          "execution_count": 6
        }
      ]
    },
    {
      "cell_type": "code",
      "metadata": {
        "id": "5dC00gzQEM1M"
      },
      "source": [
        "df_train = df_train.drop(['Cabin','PassengerId','Name'], axis=1)"
      ],
      "execution_count": null,
      "outputs": []
    },
    {
      "cell_type": "code",
      "metadata": {
        "id": "8K_AdAavVyy8"
      },
      "source": [
        "df_train = df_train.drop(['Ticket'], axis=1)"
      ],
      "execution_count": null,
      "outputs": []
    },
    {
      "cell_type": "code",
      "metadata": {
        "id": "08FGAwklWiCO"
      },
      "source": [
        "df_train = df_train.drop(['Embarked'], axis=1)"
      ],
      "execution_count": null,
      "outputs": []
    },
    {
      "cell_type": "code",
      "metadata": {
        "colab": {
          "base_uri": "https://localhost:8080/",
          "height": 297
        },
        "id": "DZk33AonT3ue",
        "outputId": "d6615c1b-3e6a-4288-c1a9-f29091bcbe9f"
      },
      "source": [
        "df_train.describe()"
      ],
      "execution_count": null,
      "outputs": [
        {
          "output_type": "execute_result",
          "data": {
            "text/html": [
              "<div>\n",
              "<style scoped>\n",
              "    .dataframe tbody tr th:only-of-type {\n",
              "        vertical-align: middle;\n",
              "    }\n",
              "\n",
              "    .dataframe tbody tr th {\n",
              "        vertical-align: top;\n",
              "    }\n",
              "\n",
              "    .dataframe thead th {\n",
              "        text-align: right;\n",
              "    }\n",
              "</style>\n",
              "<table border=\"1\" class=\"dataframe\">\n",
              "  <thead>\n",
              "    <tr style=\"text-align: right;\">\n",
              "      <th></th>\n",
              "      <th>Survived</th>\n",
              "      <th>Pclass</th>\n",
              "      <th>Sex</th>\n",
              "      <th>Age</th>\n",
              "      <th>SibSp</th>\n",
              "      <th>Parch</th>\n",
              "      <th>Fare</th>\n",
              "    </tr>\n",
              "  </thead>\n",
              "  <tbody>\n",
              "    <tr>\n",
              "      <th>count</th>\n",
              "      <td>891.000000</td>\n",
              "      <td>891.000000</td>\n",
              "      <td>891.000000</td>\n",
              "      <td>714.000000</td>\n",
              "      <td>891.000000</td>\n",
              "      <td>891.000000</td>\n",
              "      <td>891.000000</td>\n",
              "    </tr>\n",
              "    <tr>\n",
              "      <th>mean</th>\n",
              "      <td>0.383838</td>\n",
              "      <td>2.308642</td>\n",
              "      <td>0.647587</td>\n",
              "      <td>29.699118</td>\n",
              "      <td>0.523008</td>\n",
              "      <td>0.381594</td>\n",
              "      <td>32.204208</td>\n",
              "    </tr>\n",
              "    <tr>\n",
              "      <th>std</th>\n",
              "      <td>0.486592</td>\n",
              "      <td>0.836071</td>\n",
              "      <td>0.477990</td>\n",
              "      <td>14.526497</td>\n",
              "      <td>1.102743</td>\n",
              "      <td>0.806057</td>\n",
              "      <td>49.693429</td>\n",
              "    </tr>\n",
              "    <tr>\n",
              "      <th>min</th>\n",
              "      <td>0.000000</td>\n",
              "      <td>1.000000</td>\n",
              "      <td>0.000000</td>\n",
              "      <td>0.420000</td>\n",
              "      <td>0.000000</td>\n",
              "      <td>0.000000</td>\n",
              "      <td>0.000000</td>\n",
              "    </tr>\n",
              "    <tr>\n",
              "      <th>25%</th>\n",
              "      <td>0.000000</td>\n",
              "      <td>2.000000</td>\n",
              "      <td>0.000000</td>\n",
              "      <td>20.125000</td>\n",
              "      <td>0.000000</td>\n",
              "      <td>0.000000</td>\n",
              "      <td>7.910400</td>\n",
              "    </tr>\n",
              "    <tr>\n",
              "      <th>50%</th>\n",
              "      <td>0.000000</td>\n",
              "      <td>3.000000</td>\n",
              "      <td>1.000000</td>\n",
              "      <td>28.000000</td>\n",
              "      <td>0.000000</td>\n",
              "      <td>0.000000</td>\n",
              "      <td>14.454200</td>\n",
              "    </tr>\n",
              "    <tr>\n",
              "      <th>75%</th>\n",
              "      <td>1.000000</td>\n",
              "      <td>3.000000</td>\n",
              "      <td>1.000000</td>\n",
              "      <td>38.000000</td>\n",
              "      <td>1.000000</td>\n",
              "      <td>0.000000</td>\n",
              "      <td>31.000000</td>\n",
              "    </tr>\n",
              "    <tr>\n",
              "      <th>max</th>\n",
              "      <td>1.000000</td>\n",
              "      <td>3.000000</td>\n",
              "      <td>1.000000</td>\n",
              "      <td>80.000000</td>\n",
              "      <td>8.000000</td>\n",
              "      <td>6.000000</td>\n",
              "      <td>512.329200</td>\n",
              "    </tr>\n",
              "  </tbody>\n",
              "</table>\n",
              "</div>"
            ],
            "text/plain": [
              "         Survived      Pclass         Sex  ...       SibSp       Parch        Fare\n",
              "count  891.000000  891.000000  891.000000  ...  891.000000  891.000000  891.000000\n",
              "mean     0.383838    2.308642    0.647587  ...    0.523008    0.381594   32.204208\n",
              "std      0.486592    0.836071    0.477990  ...    1.102743    0.806057   49.693429\n",
              "min      0.000000    1.000000    0.000000  ...    0.000000    0.000000    0.000000\n",
              "25%      0.000000    2.000000    0.000000  ...    0.000000    0.000000    7.910400\n",
              "50%      0.000000    3.000000    1.000000  ...    0.000000    0.000000   14.454200\n",
              "75%      1.000000    3.000000    1.000000  ...    1.000000    0.000000   31.000000\n",
              "max      1.000000    3.000000    1.000000  ...    8.000000    6.000000  512.329200\n",
              "\n",
              "[8 rows x 7 columns]"
            ]
          },
          "metadata": {
            "tags": []
          },
          "execution_count": 10
        }
      ]
    },
    {
      "cell_type": "code",
      "metadata": {
        "colab": {
          "base_uri": "https://localhost:8080/"
        },
        "id": "7tm5mmqVTtz2",
        "outputId": "233472e5-fd29-4162-8120-5594198a8537"
      },
      "source": [
        "df_train.info()"
      ],
      "execution_count": null,
      "outputs": [
        {
          "output_type": "stream",
          "text": [
            "<class 'pandas.core.frame.DataFrame'>\n",
            "RangeIndex: 891 entries, 0 to 890\n",
            "Data columns (total 7 columns):\n",
            " #   Column    Non-Null Count  Dtype  \n",
            "---  ------    --------------  -----  \n",
            " 0   Survived  891 non-null    int64  \n",
            " 1   Pclass    891 non-null    int64  \n",
            " 2   Sex       891 non-null    int64  \n",
            " 3   Age       714 non-null    float64\n",
            " 4   SibSp     891 non-null    int64  \n",
            " 5   Parch     891 non-null    int64  \n",
            " 6   Fare      891 non-null    float64\n",
            "dtypes: float64(2), int64(5)\n",
            "memory usage: 48.9 KB\n"
          ],
          "name": "stdout"
        }
      ]
    },
    {
      "cell_type": "code",
      "metadata": {
        "id": "Q6dHg7PvUOLf"
      },
      "source": [
        "df_train = df_train.fillna(value = {'Age': df_train['Age'].median()})"
      ],
      "execution_count": null,
      "outputs": []
    },
    {
      "cell_type": "code",
      "metadata": {
        "colab": {
          "base_uri": "https://localhost:8080/"
        },
        "id": "3luPOHryE_K1",
        "outputId": "2896bc56-db38-421d-e8f8-aff69128bb85"
      },
      "source": [
        "from sklearn.preprocessing import MinMaxScaler  \n",
        "scaler = MinMaxScaler()  \n",
        "\n",
        "scaling_column = ['Age','Fare']\n",
        "df_train[scaling_column] = scaler.fit_transform(df_train[scaling_column])\n",
        "print(df_train[scaling_column].describe().T[['min','max']])"
      ],
      "execution_count": null,
      "outputs": [
        {
          "output_type": "stream",
          "text": [
            "      min  max\n",
            "Age   0.0  1.0\n",
            "Fare  0.0  1.0\n"
          ],
          "name": "stdout"
        }
      ]
    },
    {
      "cell_type": "code",
      "metadata": {
        "colab": {
          "base_uri": "https://localhost:8080/",
          "height": 204
        },
        "id": "23Q70wOXbh1o",
        "outputId": "0da7dec7-640b-443c-f52b-3715a43fef29"
      },
      "source": [
        "df_train.head()"
      ],
      "execution_count": null,
      "outputs": [
        {
          "output_type": "execute_result",
          "data": {
            "text/html": [
              "<div>\n",
              "<style scoped>\n",
              "    .dataframe tbody tr th:only-of-type {\n",
              "        vertical-align: middle;\n",
              "    }\n",
              "\n",
              "    .dataframe tbody tr th {\n",
              "        vertical-align: top;\n",
              "    }\n",
              "\n",
              "    .dataframe thead th {\n",
              "        text-align: right;\n",
              "    }\n",
              "</style>\n",
              "<table border=\"1\" class=\"dataframe\">\n",
              "  <thead>\n",
              "    <tr style=\"text-align: right;\">\n",
              "      <th></th>\n",
              "      <th>Survived</th>\n",
              "      <th>Pclass</th>\n",
              "      <th>Sex</th>\n",
              "      <th>Age</th>\n",
              "      <th>SibSp</th>\n",
              "      <th>Parch</th>\n",
              "      <th>Fare</th>\n",
              "    </tr>\n",
              "  </thead>\n",
              "  <tbody>\n",
              "    <tr>\n",
              "      <th>0</th>\n",
              "      <td>0</td>\n",
              "      <td>3</td>\n",
              "      <td>1</td>\n",
              "      <td>0.271174</td>\n",
              "      <td>1</td>\n",
              "      <td>0</td>\n",
              "      <td>0.014151</td>\n",
              "    </tr>\n",
              "    <tr>\n",
              "      <th>1</th>\n",
              "      <td>1</td>\n",
              "      <td>1</td>\n",
              "      <td>0</td>\n",
              "      <td>0.472229</td>\n",
              "      <td>1</td>\n",
              "      <td>0</td>\n",
              "      <td>0.139136</td>\n",
              "    </tr>\n",
              "    <tr>\n",
              "      <th>2</th>\n",
              "      <td>1</td>\n",
              "      <td>3</td>\n",
              "      <td>0</td>\n",
              "      <td>0.321438</td>\n",
              "      <td>0</td>\n",
              "      <td>0</td>\n",
              "      <td>0.015469</td>\n",
              "    </tr>\n",
              "    <tr>\n",
              "      <th>3</th>\n",
              "      <td>1</td>\n",
              "      <td>1</td>\n",
              "      <td>0</td>\n",
              "      <td>0.434531</td>\n",
              "      <td>1</td>\n",
              "      <td>0</td>\n",
              "      <td>0.103644</td>\n",
              "    </tr>\n",
              "    <tr>\n",
              "      <th>4</th>\n",
              "      <td>0</td>\n",
              "      <td>3</td>\n",
              "      <td>1</td>\n",
              "      <td>0.434531</td>\n",
              "      <td>0</td>\n",
              "      <td>0</td>\n",
              "      <td>0.015713</td>\n",
              "    </tr>\n",
              "  </tbody>\n",
              "</table>\n",
              "</div>"
            ],
            "text/plain": [
              "   Survived  Pclass  Sex       Age  SibSp  Parch      Fare\n",
              "0         0       3    1  0.271174      1      0  0.014151\n",
              "1         1       1    0  0.472229      1      0  0.139136\n",
              "2         1       3    0  0.321438      0      0  0.015469\n",
              "3         1       1    0  0.434531      1      0  0.103644\n",
              "4         0       3    1  0.434531      0      0  0.015713"
            ]
          },
          "metadata": {
            "tags": []
          },
          "execution_count": 18
        }
      ]
    },
    {
      "cell_type": "code",
      "metadata": {
        "id": "iuy5H5aGd_jR"
      },
      "source": [
        "df_test = df_test.drop(['Cabin','PassengerId','Name','Ticket','Embarked'], axis=1)"
      ],
      "execution_count": null,
      "outputs": []
    },
    {
      "cell_type": "code",
      "metadata": {
        "colab": {
          "base_uri": "https://localhost:8080/"
        },
        "id": "sTx_4IOHeaIo",
        "outputId": "28f1e92e-6c28-43e7-a4a2-6b02e3db7844"
      },
      "source": [
        "LE = LabelEncoder()\n",
        "df_test['Sex'] = LE.fit_transform(df_test['Sex'])\n",
        "print(LE.classes_)\n",
        "print(np.sort(df_test['Sex'].unique()))\n",
        "print('==================================================================')"
      ],
      "execution_count": null,
      "outputs": [
        {
          "output_type": "stream",
          "text": [
            "['female' 'male']\n",
            "[0 1]\n",
            "==================================================================\n"
          ],
          "name": "stdout"
        }
      ]
    },
    {
      "cell_type": "code",
      "metadata": {
        "colab": {
          "base_uri": "https://localhost:8080/"
        },
        "id": "0EP5J2G-elWv",
        "outputId": "73d19d0a-3ec7-485a-82ed-1d0b577d8f9a"
      },
      "source": [
        "from sklearn.preprocessing import MinMaxScaler  \n",
        "scaler = MinMaxScaler()  \n",
        "\n",
        "scaling_column = ['Age','Fare']\n",
        "df_test[scaling_column] = scaler.fit_transform(df_test[scaling_column])\n",
        "print(df_test[scaling_column].describe().T[['min','max']])"
      ],
      "execution_count": null,
      "outputs": [
        {
          "output_type": "stream",
          "text": [
            "      min  max\n",
            "Age   0.0  1.0\n",
            "Fare  0.0  1.0\n"
          ],
          "name": "stdout"
        }
      ]
    },
    {
      "cell_type": "code",
      "metadata": {
        "id": "-wq_LyN7e91Z"
      },
      "source": [
        "df_test = df_test.fillna(value = {'Age': df_test['Age'].median(), 'Fare': df_test['Fare'].mean()})"
      ],
      "execution_count": null,
      "outputs": []
    },
    {
      "cell_type": "code",
      "metadata": {
        "colab": {
          "base_uri": "https://localhost:8080/"
        },
        "id": "qMqXgwmueu2_",
        "outputId": "27f307af-ef4c-4c95-e764-8e166245589b"
      },
      "source": [
        "df_test.info()"
      ],
      "execution_count": null,
      "outputs": [
        {
          "output_type": "stream",
          "text": [
            "<class 'pandas.core.frame.DataFrame'>\n",
            "RangeIndex: 418 entries, 0 to 417\n",
            "Data columns (total 6 columns):\n",
            " #   Column  Non-Null Count  Dtype  \n",
            "---  ------  --------------  -----  \n",
            " 0   Pclass  418 non-null    int64  \n",
            " 1   Sex     418 non-null    int64  \n",
            " 2   Age     418 non-null    float64\n",
            " 3   SibSp   418 non-null    int64  \n",
            " 4   Parch   418 non-null    int64  \n",
            " 5   Fare    418 non-null    float64\n",
            "dtypes: float64(2), int64(4)\n",
            "memory usage: 19.7 KB\n"
          ],
          "name": "stdout"
        }
      ]
    },
    {
      "cell_type": "code",
      "metadata": {
        "colab": {
          "base_uri": "https://localhost:8080/"
        },
        "id": "oaELNt5cb6cK",
        "outputId": "4db7900f-0820-42c5-cd0b-1819b72dffc7"
      },
      "source": [
        "X = df_train.drop(['Survived'], axis = 1)\n",
        "y = df_train['Survived']\n",
        "print(\"Shape of X:\", X.shape)\n",
        "print(\"Shape of y:\", y.shape)"
      ],
      "execution_count": null,
      "outputs": [
        {
          "output_type": "stream",
          "text": [
            "Shape of X: (891, 6)\n",
            "Shape of y: (891,)\n"
          ],
          "name": "stdout"
        }
      ]
    },
    {
      "cell_type": "code",
      "metadata": {
        "colab": {
          "base_uri": "https://localhost:8080/"
        },
        "id": "a7trSCEyc6u5",
        "outputId": "481c5b0f-e972-4466-f584-dce20ea3293c"
      },
      "source": [
        "from sklearn.model_selection import train_test_split\n",
        "# splitting the X, and y\n",
        "X_train, X_test, y_train, y_test = train_test_split(X,y,test_size = 0.2,random_state = 0)\n",
        "# checking the shapes\n",
        "print(\"Shape of X_train :\", X_train.shape)\n",
        "print(\"Shape of y_train :\", y_train.shape)\n",
        "print(\"Shape of X_test :\", X_test.shape)\n",
        "print(\"Shape of y_test :\", y_test.shape)"
      ],
      "execution_count": null,
      "outputs": [
        {
          "output_type": "stream",
          "text": [
            "Shape of X_train : (712, 6)\n",
            "Shape of y_train : (712,)\n",
            "Shape of X_test : (179, 6)\n",
            "Shape of y_test : (179,)\n"
          ],
          "name": "stdout"
        }
      ]
    },
    {
      "cell_type": "code",
      "metadata": {
        "colab": {
          "base_uri": "https://localhost:8080/"
        },
        "id": "d6Vd5h4Ac9J_",
        "outputId": "9a5b5bde-b47d-4be6-a750-23746c3097ec"
      },
      "source": [
        "from sklearn.linear_model import LogisticRegression\n",
        "from sklearn.metrics import confusion_matrix, classification_report\n",
        "\n",
        "# Call the classifier\n",
        "logreg = LogisticRegression()\n",
        "# Fit the classifier to the training data  \n",
        "logreg = logreg.fit(X_train,y_train)\n",
        "#Training Model: Predict \n",
        "y_pred = logreg.predict(df_test)\n",
        "\n",
        "#Evaluate Model Performance\n",
        "print('Training Accuracy :', logreg.score(X_train,y_train))  \n",
        "print('Testing Accuracy :', logreg.score(X_test,y_test)) "
      ],
      "execution_count": null,
      "outputs": [
        {
          "output_type": "stream",
          "text": [
            "Training Accuracy : 0.8019662921348315\n",
            "Testing Accuracy : 0.7988826815642458\n"
          ],
          "name": "stdout"
        }
      ]
    },
    {
      "cell_type": "code",
      "metadata": {
        "colab": {
          "base_uri": "https://localhost:8080/"
        },
        "id": "2Clw6S_KdoXv",
        "outputId": "908e6e6d-7013-481c-c61b-d34aac86efa0"
      },
      "source": [
        "y_pred.shape"
      ],
      "execution_count": null,
      "outputs": [
        {
          "output_type": "execute_result",
          "data": {
            "text/plain": [
              "(418,)"
            ]
          },
          "metadata": {
            "tags": []
          },
          "execution_count": 40
        }
      ]
    },
    {
      "cell_type": "code",
      "metadata": {
        "id": "-jkDa_zkfcpr"
      },
      "source": [
        "output = pd.DataFrame({'PassengerId': pd.read_csv('/content/drive/MyDrive/Colab Notebooks/Titanic/test.csv').PassengerId,\n",
        "                       'Survived': y_pred})\n",
        "output.to_csv('titanic.csv', index=False)"
      ],
      "execution_count": null,
      "outputs": []
    },
    {
      "cell_type": "code",
      "metadata": {
        "colab": {
          "base_uri": "https://localhost:8080/",
          "height": 204
        },
        "id": "IxHSn86mgJ_J",
        "outputId": "f70800aa-2bd4-429a-8ffa-d9628d1bbb18"
      },
      "source": [
        "hasil = pd.read_csv('/content/titanic.csv')\n",
        "hasil.head()"
      ],
      "execution_count": null,
      "outputs": [
        {
          "output_type": "execute_result",
          "data": {
            "text/html": [
              "<div>\n",
              "<style scoped>\n",
              "    .dataframe tbody tr th:only-of-type {\n",
              "        vertical-align: middle;\n",
              "    }\n",
              "\n",
              "    .dataframe tbody tr th {\n",
              "        vertical-align: top;\n",
              "    }\n",
              "\n",
              "    .dataframe thead th {\n",
              "        text-align: right;\n",
              "    }\n",
              "</style>\n",
              "<table border=\"1\" class=\"dataframe\">\n",
              "  <thead>\n",
              "    <tr style=\"text-align: right;\">\n",
              "      <th></th>\n",
              "      <th>PassengerId</th>\n",
              "      <th>Survived</th>\n",
              "    </tr>\n",
              "  </thead>\n",
              "  <tbody>\n",
              "    <tr>\n",
              "      <th>0</th>\n",
              "      <td>892</td>\n",
              "      <td>0</td>\n",
              "    </tr>\n",
              "    <tr>\n",
              "      <th>1</th>\n",
              "      <td>893</td>\n",
              "      <td>0</td>\n",
              "    </tr>\n",
              "    <tr>\n",
              "      <th>2</th>\n",
              "      <td>894</td>\n",
              "      <td>0</td>\n",
              "    </tr>\n",
              "    <tr>\n",
              "      <th>3</th>\n",
              "      <td>895</td>\n",
              "      <td>0</td>\n",
              "    </tr>\n",
              "    <tr>\n",
              "      <th>4</th>\n",
              "      <td>896</td>\n",
              "      <td>1</td>\n",
              "    </tr>\n",
              "  </tbody>\n",
              "</table>\n",
              "</div>"
            ],
            "text/plain": [
              "   PassengerId  Survived\n",
              "0          892         0\n",
              "1          893         0\n",
              "2          894         0\n",
              "3          895         0\n",
              "4          896         1"
            ]
          },
          "metadata": {
            "tags": []
          },
          "execution_count": 45
        }
      ]
    }
  ]
}